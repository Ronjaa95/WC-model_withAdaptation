{
 "cells": [
  {
   "cell_type": "code",
   "execution_count": null,
   "metadata": {},
   "outputs": [],
   "source": [
    "# change into the root directory of the project\n",
    "import os\n",
    "if os.getcwd().split(\"/\")[-1] == \"dev\":\n",
    "    os.chdir('..')\n",
    "    \n",
    "# get the current directory\n",
    "cwd = os.getcwd()\n",
    "\n",
    "# Print the current working directory\n",
    "print(\"Current working directory: {0}\".format(cwd))\n",
    "\n",
    "\n",
    "# Set path, where to save files of tables\n",
    "PATH = cwd\n",
    "HDF_PATH = PATH + '/data/hdf/'\n",
    "IMG_PATH = PATH + '/images/05/'\n",
    "print(HDF_PATH)\n",
    "\n",
    "\n",
    "import numpy as np\n",
    "import scipy\n",
    "from scipy import stats\n",
    "\n",
    "\n",
    "from neurolib.models.wc-adap import WCModel\n",
    "from neurolib.models.wc_input import WCModel_input\n",
    "\n",
    "from neurolib.utils.parameterSpace import ParameterSpace\n",
    "from neurolib.optimize.exploration import BoxSearch\n",
    "import neurolib.utils.functions as func\n",
    "import neurolib.utils.devutils as du\n",
    "\n",
    "#import neurolib.utils.brainplot as bp\n",
    "import neurolib.optimize.exploration.explorationUtils as eu\n",
    "\n",
    "from neurolib.utils.loadData import Dataset\n",
    "\n",
    "from Derivations import Derivations\n",
    "\n",
    "#for the brainplot functions\n",
    "from Brainplot import plot_brain\n",
    "from Brainplot import plot_involvement_distribution\n",
    "import xarray as xr\n",
    "from neurolib.utils.signal import Signal\n",
    "import matplotlib.pyplot as plt"
   ]
  },
  {
   "cell_type": "markdown",
   "metadata": {},
   "source": [
    "# Initialize the model"
   ]
  },
  {
   "cell_type": "code",
   "execution_count": null,
   "metadata": {},
   "outputs": [],
   "source": [
    "ds = Dataset(\"gw\", fcd=True)\n",
    "wc = WCModel(Cmat = ds.Cmat, Dmat = ds.Dmat)\n",
    "wc_input=WCModel_input(Cmat = ds.Cmat, Dmat = ds.Dmat)"
   ]
  },
  {
   "cell_type": "code",
   "execution_count": null,
   "metadata": {},
   "outputs": [],
   "source": [
    "fix = {'duration': 240.0*1000, 'sigma_ou': 0.287031, 'K_gl': 2.573845, \n",
    "      # 'adap_init': 0.0 * np.random.uniform(0.99, 1, (1, 1)), #inkl a_adap Null setzen für ausschalten der Adap\n",
    "       'tau_exc': 2.5, 'tau_inh': 3.75, \n",
    "       'c_excexc': 16, 'c_excinh': 12, 'c_inhexc': 12, 'c_inhinh': 3, \n",
    "       'a_exc': 1.0, 'a_inh': 1.0, \n",
    "       'mu_exc': 5.0, 'mu_inh': 5.0,\n",
    "       'a_adap': 98.381822, 'tau_adap': 3050.402224,\n",
    "       'exc_ext': 4.960871, 'inh_ext': 2.668888}\n",
    "wc.params.update(fix)"
   ]
  },
  {
   "cell_type": "code",
   "execution_count": null,
   "metadata": {},
   "outputs": [],
   "source": [
    "dev = Derivations(model=wc, model_input=wc_input, params=fix)"
   ]
  },
  {
   "cell_type": "code",
   "execution_count": null,
   "metadata": {},
   "outputs": [],
   "source": [
    "ParamSpace = {'exc_ext': [3.96], 'inh_ext': [2.77]}\n",
    "print('Parameters Space: ', ParamSpace)\n",
    "\n",
    "#HDF_PATH is set in second cell\n",
    "filestr = '01_Waves_fitting results.hdf'\n",
    "search = dev.runToSave(HDF_PATH, filestr, ParamSpace, False)"
   ]
  },
  {
   "cell_type": "code",
   "execution_count": null,
   "metadata": {},
   "outputs": [],
   "source": [
    "search.loadResults()\n",
    "df = search.dfResults"
   ]
  },
  {
   "cell_type": "markdown",
   "metadata": {},
   "source": [
    "# Prepare the data"
   ]
  },
  {
   "cell_type": "code",
   "execution_count": null,
   "metadata": {},
   "outputs": [],
   "source": [
    "#Packages for plotting\n",
    "from plotly.offline import init_notebook_mode, plot, iplot\n",
    "from plotly.subplots import make_subplots\n",
    "import plotly.offline as pyo\n",
    "\n",
    "import chart_studio.plotly as py #chart_studio has to be installed: pip install chart_studio\n",
    "import plotly.graph_objs as go\n",
    "import plotly.figure_factory as ff\n",
    "import plotly.express as px\n",
    "\n",
    "from Templates import template\n",
    "from Templates import symbols\n",
    "from Templates import global_waves_color_list as colors\n",
    "\n",
    "\n",
    "width=template.layout.width*(1/3)\n",
    "height=template.layout.height*(2/3)\n"
   ]
  },
  {
   "cell_type": "code",
   "execution_count": null,
   "metadata": {},
   "outputs": [],
   "source": [
    "#1. The developement of global waves per noise for increasing b\n",
    "\n",
    "fig = go.Figure()\n",
    "\n",
    "\n",
    "for i, (key, val) in enumerate(df.groupby(['sigma_ou'])):\n",
    "    proportion = val['peaks50'].rolling(3, min_periods=1).mean()\n",
    "   # print(proportion)\n",
    "    fig.add_trace(go.Scatter(x=val['a_adap'], y=proportion, \n",
    "                             mode='lines',\n",
    "                             marker=dict(color=colors[i]),\n",
    "                             name=key,\n",
    "                            showlegend=False))\n",
    "    \n",
    "fig.update_layout(template=template,\n",
    "                  annotations=[\n",
    "                      dict(x=-0.3,y=0.5, text='Global waves [1/min]', \n",
    "                           font_size=26, font_color='black',textangle=-90),\n",
    "                      dict(x=-0.29,y=1.15, text='(a)', font_color='black')\n",
    "                  ],\n",
    "                 width=width, height=height,\n",
    "                 xaxis=dict(title_text='',#'Adaptation strength b',\n",
    "                            ticks='outside', tickmode='array',\n",
    "                           tickvals=[0, 50, 98.38, 150], ticktext=['0','50',r'$b^c$','150']),\n",
    "                 yaxis=dict(title_text='', ticks='outside',\n",
    "                           tickvals=[0, 100, 200]),\n",
    "                 margin=dict(l=80))\n",
    "\n",
    "fig.show()\n",
    "\n",
    "fig.write_image(IMG_PATH + 'global.png', scale=1.0)"
   ]
  },
  {
   "cell_type": "code",
   "execution_count": null,
   "metadata": {},
   "outputs": [],
   "source": [
    "#2. The developement of local waves per noise for increasing b\n",
    "\n",
    "fig = go.Figure()\n",
    "\n",
    "\n",
    "for i, (key, val) in enumerate(df.groupby(['sigma_ou'])):\n",
    "    proportion = (val['peaks25']-val['peaks50']).rolling(3, min_periods=1).mean()\n",
    "   # print(proportion)\n",
    "    fig.add_trace(go.Scatter(x=val['a_adap'], y=proportion, \n",
    "                             mode='lines',\n",
    "                             marker=dict(color=colors[i]),\n",
    "                             name=key,\n",
    "                            showlegend=False))\n",
    "    \n",
    "fig.update_layout(template=template,\n",
    "                  annotations=[\n",
    "                      dict(x=-0.2,y=1.15, text='(b)', font_color='black')\n",
    "                  ],\n",
    "                 width=width, height=height,\n",
    "                 xaxis=dict(title_text='',#'Adaptation strength b',\n",
    "                            ticks='outside', tickmode='array',\n",
    "                           tickvals=[0, 50, 98.38, 150], ticktext=['0','50',r'$b^c$','150'], range=[50,150]),\n",
    "                 yaxis=dict(title_text='Local waves [1/min]'))\n",
    "\n",
    "fig.show()\n",
    "fig.write_image(IMG_PATH + 'local.png', scale=1.5)"
   ]
  },
  {
   "cell_type": "code",
   "execution_count": null,
   "metadata": {},
   "outputs": [],
   "source": [
    "# 3. up-down durations per noise, over increasing b\n",
    "\n",
    "#1. The developement of global waves per noise for increasing b\n",
    "\n",
    "fig = go.Figure()\n",
    "\n",
    "from Templates import brain_result_colors as colors_dict\n",
    "\n",
    "\n",
    "for i, (key, val) in enumerate(df.groupby(['sigma_ou'])):\n",
    "    proportion_down = val['down_duration'].rolling(3, min_periods=1).mean()\n",
    "    proportion_up = val['up_duration'].rolling(3, min_periods=1).mean()\n",
    "   # print(proportion)\n",
    "    fig.add_trace(go.Scatter(x=val['a_adap'], y=proportion_down, \n",
    "                             mode='lines',\n",
    "                             marker=dict(color=colors[i]),\n",
    "                             name=key, showlegend=False))\n",
    "    fig.add_trace(go.Scatter(x=val['a_adap'], y=proportion_up, \n",
    "                             mode='lines',\n",
    "                             marker=dict(color=colors[i]),\n",
    "                             line=dict(dash='dash'),\n",
    "                             name=key, showlegend=False))\n",
    "    \n",
    "\n",
    "fig.add_trace(go.Scatter(x=[0], y=[0], \n",
    "                         mode='lines',\n",
    "                         marker=dict(color='black', symbol=symbols[0]), \n",
    "                         visible='legendonly', showlegend=True,\n",
    "                         name='down'))\n",
    "fig.add_trace(go.Scatter(x=[0], y=[0], \n",
    "                         mode='lines',\n",
    "                         line=dict(dash='dash'),\n",
    "                         marker=dict(color='black', symbol=symbols[0]), \n",
    "                         visible='legendonly', showlegend=True,\n",
    "                         name='up'))\n",
    "    \n",
    "fig.update_layout(template=template,\n",
    "                  annotations=[\n",
    "                      dict(x=-0.2,y=1.16, text='(c)', font_color='black')\n",
    "                  ],\n",
    "                 width=width, height=height,\n",
    "                 xaxis=dict(title_text='Adaptation strength b', range=[60,150],\n",
    "                            ticks='outside', tickmode='array',\n",
    "                           tickvals=[0, 60, 98.38, 150], ticktext=['0','60',r'$b^c$','150']),\n",
    "                 yaxis=dict(title_text='State Durations [s]', range=[0,10]),\n",
    "                 legend=dict(orientation=\"h\", yanchor=\"bottom\", y=1.02, xanchor=\"right\", x=1))\n",
    "\n",
    "fig.show()\n",
    "fig.write_image(IMG_PATH + 'state_dur.png', scale=1.5)"
   ]
  },
  {
   "cell_type": "code",
   "execution_count": null,
   "metadata": {},
   "outputs": [],
   "source": [
    "# 4. The evolution of dominant frequency per sigma_ou w.r.t. b\n",
    "\n",
    "fig = go.Figure()\n",
    "\n",
    "\n",
    "for i, (key, val) in enumerate(df.groupby(['sigma_ou'])):\n",
    "    proportion = val['domfrequ'].rolling(3, min_periods=1).mean()\n",
    "    fig.add_trace(go.Scatter(x=val['a_adap'], y=proportion,\n",
    "                             mode='lines',\n",
    "                             marker=dict(color=colors[i]),\n",
    "                             name=key))\n",
    "    \n",
    "fig.update_layout(template=template,\n",
    "                  annotations=[\n",
    "                      dict(x=-0.2,y=1.15, text='(d)', font_color='black')\n",
    "                  ],\n",
    "                 width=width+60, height=height,\n",
    "                 xaxis=dict(title_text='Adaptation strength b',\n",
    "                            ticks='outside', tickmode='array',\n",
    "                            tickvals=[0, 50, 98.38, 150], ticktext=['0','50',r'$b^c$','150']),\n",
    "                 yaxis=dict(title_text='Frequency [Hz]', tickvals=[0,10,20,30]),\n",
    "                 legend=dict(title='noise'))\n",
    "\n",
    "fig.show()\n",
    "fig.write_image(IMG_PATH + 'frequ.png', scale=1.5)"
   ]
  },
  {
   "cell_type": "code",
   "execution_count": null,
   "metadata": {},
   "outputs": [],
   "source": [
    "df"
   ]
  },
  {
   "cell_type": "code",
   "execution_count": null,
   "metadata": {},
   "outputs": [],
   "source": [
    "wc.params.exc_ext = 4.5\n",
    "wc.params.inh_ext = 3.77\n",
    "\n",
    "wc.params.a_adap = 0.0\n",
    "wc.params.sigma_ou = 0.0\n",
    "\n",
    "wc.run()\n",
    "\n",
    "x = wc.exc[:,-50000:]\n",
    "\n",
    "fig = go.Figure()\n",
    "\n",
    "for i in [0,5,10,20,31,40,50]:\n",
    "    fig.add_trace(go.Scatter(x=np.linspace(0,5,50000), y=x[i], name=i))\n",
    "    \n",
    "fig.update_layout(template=template,\n",
    "                 width=600, height=300,\n",
    "                 yaxis=dict(range=[0,1.01]))\n",
    "\n",
    "fig.show()"
   ]
  },
  {
   "cell_type": "code",
   "execution_count": null,
   "metadata": {},
   "outputs": [],
   "source": [
    "states = [dev.getUpDownWindows(xss) for xss in x]\n",
    "states"
   ]
  },
  {
   "cell_type": "code",
   "execution_count": null,
   "metadata": {},
   "outputs": [],
   "source": [
    "states = np.array(states)\n",
    "stateLengths = [dev.getStateLengths(xs) for xs in states]\n",
    "stateLengths"
   ]
  },
  {
   "cell_type": "code",
   "execution_count": null,
   "metadata": {},
   "outputs": [],
   "source": [
    "durations = dev.getDurationsNdim(stateLengths)\n",
    "durations"
   ]
  },
  {
   "cell_type": "code",
   "execution_count": null,
   "metadata": {},
   "outputs": [],
   "source": []
  }
 ],
 "metadata": {
  "kernelspec": {
   "display_name": "Python 3",
   "language": "python",
   "name": "python3"
  },
  "language_info": {
   "codemirror_mode": {
    "name": "ipython",
    "version": 3
   },
   "file_extension": ".py",
   "mimetype": "text/x-python",
   "name": "python",
   "nbconvert_exporter": "python",
   "pygments_lexer": "ipython3",
   "version": "3.7.6"
  }
 },
 "nbformat": 4,
 "nbformat_minor": 4
}
