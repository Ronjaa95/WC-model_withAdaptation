{
 "cells": [
  {
   "cell_type": "code",
   "execution_count": null,
   "metadata": {},
   "outputs": [],
   "source": [
    "# change into the root directory of the project\n",
    "import os\n",
    "if os.getcwd().split(\"/\")[-1] == \"dev\":\n",
    "    os.chdir('..')\n",
    "    \n",
    "# get the current directory\n",
    "cwd = os.getcwd()\n",
    "\n",
    "# Print the current working directory\n",
    "print(\"Current working directory: {0}\".format(cwd))\n",
    "\n",
    "\n",
    "# Set path, where to save files of tables\n",
    "PATH = cwd\n",
    "HDF_PATH = PATH + '/data/hdf/'\n",
    "IMG_PATH = PATH + '/images/05/'\n",
    "print(HDF_PATH)\n",
    "\n",
    "\n",
    "import numpy as np\n",
    "import scipy\n",
    "from scipy import stats\n",
    "\n",
    "\n",
    "from neurolib.models.wc-adap import WCModel\n",
    "from neurolib.models.wc_input import WCModel_input\n",
    "\n",
    "from neurolib.utils.parameterSpace import ParameterSpace\n",
    "from neurolib.optimize.exploration import BoxSearch\n",
    "import neurolib.utils.functions as func\n",
    "import neurolib.utils.devutils as du\n",
    "\n",
    "#import neurolib.utils.brainplot as bp\n",
    "import neurolib.optimize.exploration.explorationUtils as eu\n",
    "\n",
    "from neurolib.utils.loadData import Dataset\n",
    "\n",
    "from Derivations import Derivations\n",
    "\n",
    "#for the brainplot functions\n",
    "from Brainplot import plot_brain\n",
    "from Brainplot import plot_involvement_distribution\n",
    "import xarray as xr\n",
    "from neurolib.utils.signal import Signal\n",
    "import matplotlib.pyplot as plt\n",
    "\n"
   ]
  },
  {
   "cell_type": "code",
   "execution_count": null,
   "metadata": {},
   "outputs": [],
   "source": [
    "ds = Dataset(\"gw\", fcd=True)"
   ]
  },
  {
   "cell_type": "code",
   "execution_count": null,
   "metadata": {},
   "outputs": [],
   "source": [
    "wc = WCModel(Cmat = ds.Cmat, Dmat = ds.Dmat)"
   ]
  },
  {
   "cell_type": "markdown",
   "metadata": {},
   "source": [
    "## Run()"
   ]
  },
  {
   "cell_type": "code",
   "execution_count": null,
   "metadata": {},
   "outputs": [],
   "source": [
    "\n",
    "fix = {'duration': 11*60.0*1000, 'sigma_ou': 0.287031, 'K_gl': 2.573845, \n",
    "      # 'adap_init': 0.0 * np.random.uniform(0.99, 1, (1, 1)), #inkl a_adap Null setzen für ausschalten der Adap\n",
    "       'tau_exc': 2.5, 'tau_inh': 3.75, \n",
    "       'c_excexc': 16, 'c_excinh': 12, 'c_inhexc': 12, 'c_inhinh': 3, \n",
    "       'a_exc': 1.0, 'a_inh': 1.0, \n",
    "       'mu_exc': 5.0, 'mu_inh': 5.0,\n",
    "       'a_adap': 98.381822, 'tau_adap': 3050.402224,\n",
    "       'exc_ext': 4.960871, 'inh_ext': 2.668888}\n",
    "wc.params.update(fix)\n",
    "\n",
    "\n",
    "#4.960871\t2.668888\t2.573845\t98.381822\t3050.402224\t0.287031\t0.513186\t0.364011\t0.734326"
   ]
  },
  {
   "cell_type": "code",
   "execution_count": null,
   "metadata": {},
   "outputs": [],
   "source": [
    "dev = Derivations(model=wc, params=fix)"
   ]
  },
  {
   "cell_type": "code",
   "execution_count": null,
   "metadata": {},
   "outputs": [],
   "source": [
    "wc.run()"
   ]
  },
  {
   "cell_type": "markdown",
   "metadata": {},
   "source": [
    "# Prepare the data"
   ]
  },
  {
   "cell_type": "code",
   "execution_count": null,
   "metadata": {},
   "outputs": [],
   "source": [
    "def filter_peaks(peaks, involvement, threshold_max, threshold_min = 0):\n",
    "    around = int(500 / wc.params.dt)\n",
    "    return [p for p in peaks if (involvement[p] > threshold_min and involvement[p] <= threshold_max)]"
   ]
  },
  {
   "cell_type": "code",
   "execution_count": null,
   "metadata": {},
   "outputs": [],
   "source": [
    "cut_off = int((fix['duration']/wc.params.dt) - 600000)\n",
    "#print(cut_off)\n",
    "\n",
    "x = wc.exc[:, -cut_off:]\n",
    "x_adap = wc.adap[:, -cut_off:]"
   ]
  },
  {
   "cell_type": "code",
   "execution_count": null,
   "metadata": {},
   "outputs": [],
   "source": [
    "#oss = dev.checkMultiOsc(x)\n",
    "\n",
    "#print('Oscillations were checked')bool(filter_on[k])\n",
    "thresh = 0.2 * np.max(wc.output, axis=1)\n",
    "\n",
    "states = [dev.getUpDownWindows(x[k], thresh[k], filter_long=True, dur=25) for k in range(len(x))]\n",
    "states = np.array(states)\n",
    "stateLengths = dev.getStateLengths(states)\n",
    "\n",
    "print('State lengths are done.')\n",
    "\n",
    "durations = dev.getDurationsNdim(stateLengths)\n",
    "\n",
    "up_all = durations[0]\n",
    "down_all = durations[1]\n",
    "\n",
    "dt_to_sec = wc.params.dt / 1000\n",
    "up_dur = [u * dt_to_sec for up in up_all for u in up]\n",
    "down_dur = [d * dt_to_sec for down in down_all for d in down]\n",
    "\n",
    "print('durations done')\n",
    "up_dur_mean = [dev.getMean(np.array(array)) for array in up_all if array]\n",
    "down_dur_mean = [dev.getMean(np.array(array)) for array in down_all if array]\n",
    "\n",
    "\n",
    "unfiltered_involvement = dev.getInvolvement(states)\n",
    "print('involvement is done')"
   ]
  },
  {
   "cell_type": "code",
   "execution_count": null,
   "metadata": {},
   "outputs": [],
   "source": [
    "involvement = scipy.ndimage.gaussian_filter1d(unfiltered_involvement, 2000)\n",
    "\n",
    "#Da es bei den duration-derivations auf winzige Intervallunterschiede ankommt und wir bereits spindles rausfiltern,\n",
    "#gehen wir hier über die ungefilterte involvement time series, für die Unterscheidung zwischen globalen und localen\n",
    "#waves allerdings nicht.\n",
    "up_bin_means, down_bin_means, bin_edges = dev.getStatesInvolvementDistribution(states, unfiltered_involvement, nbins=10)\n",
    "print('up down involvement is done')\n",
    "\n",
    "peaks = scipy.signal.find_peaks(involvement, height=0.1, distance=10000)[0]\n",
    "\n",
    "peaks25 = filter_peaks(peaks, involvement, 0.50, 0.25)\n",
    "peaks50 = filter_peaks(peaks, involvement, 0.75, 0.50)\n",
    "peaks75 = filter_peaks(peaks, involvement, 1, 0.75)\n",
    "\n",
    "global_iei = np.diff(np.sort(peaks50 + peaks75).tolist())/1000*wc.params.dt\n",
    "local_iei = np.diff(peaks25)/1000*wc.params.dt"
   ]
  },
  {
   "cell_type": "markdown",
   "metadata": {},
   "source": [
    "# Start the plotting"
   ]
  },
  {
   "cell_type": "code",
   "execution_count": null,
   "metadata": {},
   "outputs": [],
   "source": [
    "#Packages for plotting\n",
    "from plotly.offline import init_notebook_mode, plot, iplot\n",
    "from plotly.subplots import make_subplots\n",
    "import plotly.offline as pyo\n",
    "\n",
    "import chart_studio.plotly as py #chart_studio has to be installed: pip install chart_studio\n",
    "import plotly.graph_objs as go\n",
    "import plotly.figure_factory as ff\n",
    "import plotly.express as px"
   ]
  },
  {
   "cell_type": "code",
   "execution_count": null,
   "metadata": {},
   "outputs": [],
   "source": [
    "from Templates import template\n",
    "from Templates import brain_result_color_list\n",
    "from Templates import brain_result_colors"
   ]
  },
  {
   "cell_type": "code",
   "execution_count": null,
   "metadata": {},
   "outputs": [],
   "source": [
    "colors = brain_result_colors"
   ]
  },
  {
   "cell_type": "code",
   "execution_count": null,
   "metadata": {},
   "outputs": [],
   "source": [
    "width = template.layout.width * (1/3)\n",
    "height = template.layout.height * (2/3)"
   ]
  },
  {
   "cell_type": "markdown",
   "metadata": {},
   "source": [
    "# 0. Frequency per node degree for best fit"
   ]
  },
  {
   "cell_type": "code",
   "execution_count": null,
   "metadata": {},
   "outputs": [],
   "source": [
    "from Topology import Topology\n",
    "top = Topology(wc, ext_input=[2.4, 1.12], fix_params=fix, Cmat=ds.Cmat)\n",
    "top.getDirectedNodeDegreeIN()\n",
    "nd = top.directedNodeDegreesIN\n",
    "#print('node number of lowest degree: ', nd[np.argmin(nd)])\n",
    "#print('node number of highest degree: ', np.argmax(nd))"
   ]
  },
  {
   "cell_type": "code",
   "execution_count": null,
   "metadata": {},
   "outputs": [],
   "source": [
    "from scipy import signal\n",
    "frequencies, psd =  signal.welch(x, 1000/wc.params.dt, \n",
    "                                 window='hanning', \n",
    "                                 nperseg=int(6 * 1000 / wc.params.dt) , \n",
    "                                 scaling='spectrum')\n",
    "\n",
    "        \n",
    "idx_dominant_frequ = np.argmax(psd, axis=1)"
   ]
  },
  {
   "cell_type": "code",
   "execution_count": null,
   "metadata": {},
   "outputs": [],
   "source": [
    "dom_frequs = frequencies[idx_dominant_frequ]\n",
    "print('The dominant frequencies for the best fit per node: ', dom_frequs)\n",
    "idx = np.argmax(np.sum(psd,axis=0))\n",
    "f = frequencies[idx]\n",
    "print('The dominant frequency over all nodes for the best fit is: ', f)"
   ]
  },
  {
   "cell_type": "code",
   "execution_count": null,
   "metadata": {},
   "outputs": [],
   "source": [
    "fig = go.Figure()\n",
    "\n",
    "\n",
    "fig.add_trace(go.Scatter(x=nd, y=dom_frequs, mode='markers', \n",
    "                         marker=dict(color='black'),\n",
    "                         name='DOWN'))\n",
    "\n",
    "fig.update_layout(template=template,\n",
    "                  annotations=[\n",
    "                      dict(x=-0.2, y=1.1, text='(a)', font=dict(color='black')),\n",
    "                      dict(x= 0.155, y=29.33, xref='x', yref='y',\n",
    "                          showarrow=True, axref='x', ayref='y',\n",
    "                          ax=0.6,ay=30,\n",
    "                          text=f'last node of noise<br>dominated oscillations</br>node degree: 0.152<br>dom. frequency: 30.05',\n",
    "                          font_size=18),\n",
    "                      dict(x= 0.17, y=0.66, xref='x', yref='y',\n",
    "                          showarrow=True, axref='x', ayref='y',\n",
    "                          ax=0.4,ay=15,\n",
    "                          text=f'first node of adaptation<br>dominated oscillations<br>node degree: 0.17<br>dom. frequency: 0.66',\n",
    "                          font_size=18)\n",
    "                  ],\n",
    "                 width=width, height=height,\n",
    "                # legend=dict(x=0.65, y=0.5),\n",
    "                 xaxis=dict(title_text='Node degree'),\n",
    "                 yaxis=dict(title_text='Frequency [Hz]', tickvals=[0,10,20,30]))\n",
    "\n",
    "fig.show()"
   ]
  },
  {
   "cell_type": "markdown",
   "metadata": {},
   "source": [
    "## 1. State Durations per Involvement"
   ]
  },
  {
   "cell_type": "code",
   "execution_count": null,
   "metadata": {},
   "outputs": [],
   "source": [
    "fig = go.Figure()\n",
    "\n",
    "x1=bin_edges[:-1] * 100\n",
    "x2=(bin_edges[:-1] + 0.05) * 100\n",
    "\n",
    "fig.add_trace(go.Bar(x=x1, y=up_bin_means[::-1],\n",
    "                    name='up',\n",
    "                    marker=dict(line_width=0.5, color=colors['up_duration'])))\n",
    "fig.add_trace(go.Bar(x=x2, y=down_bin_means,\n",
    "                    name='down',\n",
    "                    marker=dict(line_width=0.5, color=colors['down_duration'])))\n",
    "\n",
    "fig.update_layout(template=template,\n",
    "                  annotations=[\n",
    "                      dict(x=-0.255,y=0.5,text='Duration [ms]', font_size=26,textangle=-90),\n",
    "                      dict(x=-0.255,y=1.1, text='(b)')\n",
    "                  ],\n",
    "                  width=width, height=height,\n",
    "                  xaxis=dict(title_text='Involvement [%]', range=[0,101]),\n",
    "                  yaxis=dict(title_text='', tickvals=[0,400,800]),\n",
    "                  legend=dict(x=0.01, y=1.03),\n",
    "                 margin=dict(l=80))\n",
    "\n",
    "fig.show()"
   ]
  },
  {
   "cell_type": "code",
   "execution_count": null,
   "metadata": {},
   "outputs": [],
   "source": [
    "down_bin_means"
   ]
  },
  {
   "cell_type": "code",
   "execution_count": null,
   "metadata": {},
   "outputs": [],
   "source": [
    "up_bin_means"
   ]
  },
  {
   "cell_type": "markdown",
   "metadata": {},
   "source": [
    "## 2. Distribution of State-Durations"
   ]
  },
  {
   "cell_type": "code",
   "execution_count": null,
   "metadata": {},
   "outputs": [],
   "source": [
    "fig = go.Figure()\n",
    "\n",
    "fig.add_trace(go.Histogram(x=up_dur, histnorm='percent', \n",
    "                           marker=dict(line_width=0.75, color=colors['up_duration']),\n",
    "                           xbins_size=0.2,\n",
    "                           name='up'))\n",
    "fig.add_trace(go.Histogram(x=down_dur, histnorm='percent', \n",
    "                           marker=dict(line_width=0.75, color=colors['down_duration']),\n",
    "                           xbins_size=0.2,\n",
    "                           name='down'))\n",
    "\n",
    "\n",
    "fig.update_layout(template=template, \n",
    "                  annotations=[\n",
    "                      dict(x=-0.22,y=0.5,text='Log probability', font_size=26,textangle=-90),\n",
    "                      dict(x=-0.21,y=1.1, text='(c)')\n",
    "                  ],\n",
    "                  width=width, height=height,\n",
    "                  xaxis=dict(title_text='Duration [s]',tickvals=[0,1,2,3,4,5]),\n",
    "                  yaxis=dict(title_text='', showticklabels=True,\n",
    "                            tickvals=[0.1,10]),\n",
    "                  barmode='overlay',\n",
    "                 legend=dict(x=0.7,y=1.02))\n",
    "\n",
    "fig.update_traces(opacity=0.9)\n",
    "\n",
    "fig.update_yaxes(type='log')\n",
    "fig.update_xaxes(ticks='outside', tick0=0)\n",
    "\n",
    "\n",
    "\n",
    "fig.show()"
   ]
  },
  {
   "cell_type": "code",
   "execution_count": null,
   "metadata": {},
   "outputs": [],
   "source": [
    "fig = go.Figure()\n",
    "\n",
    "time = np.linspace(0,20,200000)\n",
    "\n",
    "for node in [23,25,68,77]:\n",
    "    fig.add_trace(go.Scatter(x=time,y=x[node][-200000:]))\n",
    "    \n",
    "fig.update_layout(template=template, \n",
    "                  width=800, height=400)\n",
    "\n",
    "fig.show()"
   ]
  },
  {
   "cell_type": "markdown",
   "metadata": {},
   "source": [
    "## 3. Involvement in DOWN over time"
   ]
  },
  {
   "cell_type": "code",
   "execution_count": null,
   "metadata": {},
   "outputs": [],
   "source": [
    "#Plot involvement timeseries:\n",
    "fig = go.Figure()\n",
    "\n",
    "involvement_prozent = unfiltered_involvement * 100\n",
    "\n",
    "fig.add_trace(go.Scatter(x=np.linspace(0,60,600000), y=involvement_prozent[-600000:],\n",
    "                        marker=dict(color='salmon')))\n",
    "\n",
    "fig.update_layout(template=template, \n",
    "                  annotations=[\n",
    "                      dict(x=-0.15, y=1.32, text='(d)', font=dict(color='black')),\n",
    "                      dict(x=-0.15, y=0.5, text='Involvement [%]', font_size=26, textangle=-90)\n",
    "                  ],\n",
    "                  width=template.layout.width*0.5, height=height*(2/3),\n",
    "                  xaxis=dict(title_text='Time [s]', tickvals=[0,20,40,60]),\n",
    "                  yaxis=dict(title_text='', tickvals=[0,50,100]),\n",
    "                 margin=dict(l=82))"
   ]
  },
  {
   "cell_type": "code",
   "execution_count": null,
   "metadata": {},
   "outputs": [],
   "source": [
    "print(\"Mean involvement: \", np.mean(unfiltered_involvement))"
   ]
  },
  {
   "cell_type": "code",
   "execution_count": null,
   "metadata": {},
   "outputs": [],
   "source": [
    "print(np.sum(unfiltered_involvement<0.5)/len(unfiltered_involvement)*100, \"% of slow oscillations were detected in less than 50% of regions\")"
   ]
  },
  {
   "cell_type": "markdown",
   "metadata": {},
   "source": [
    "## 4.1 Distribution of iei, distinguished by global vs. local"
   ]
  },
  {
   "cell_type": "code",
   "execution_count": null,
   "metadata": {},
   "outputs": [],
   "source": [
    "fig = go.Figure()\n",
    "\n",
    "\n",
    "fig.add_trace(go.Histogram(x=local_iei, histnorm='percent',\n",
    "                           xbins_size=0.25, \n",
    "                           marker=dict(color='gray', \n",
    "                                       line=dict(width=0.75)),\n",
    "                           name='local'))\n",
    "fig.add_trace(go.Histogram(x=global_iei, histnorm='percent', \n",
    "                           xbins_size=0.25,\n",
    "                           marker=dict(color='green', \n",
    "                                       line=dict(width=0.75)),\n",
    "                           name='global'))\n",
    "\n",
    "\n",
    "fig.update_layout(template=template, \n",
    "                  annotations=[\n",
    "                      dict(x=-0.2,y=1.1, text='(a)')\n",
    "                  ],\n",
    "                  width=width, height=height,\n",
    "                  xaxis=dict(title_text='Inter-event interval [s]', range=[0,1], tickvals=[1,2,3,4,5,6,10], tickfont_size=18),\n",
    "                  yaxis=dict(title_text='Fraction [%]', tickfont_size=18),#, showticklabels=False),\n",
    "                  barmode='overlay',\n",
    "                 legend=dict(x=0.7,y=1.02))\n",
    "\n",
    "fig.update_traces(opacity=0.75)\n",
    "fig.update_xaxes(type='log')\n",
    "\n",
    "fig.show()"
   ]
  },
  {
   "cell_type": "markdown",
   "metadata": {},
   "source": [
    "## 4.2 Involvement in down, global vs local"
   ]
  },
  {
   "cell_type": "code",
   "execution_count": null,
   "metadata": {},
   "outputs": [],
   "source": [
    "fig = go.Figure()\n",
    "\n",
    "fig.add_trace(go.Histogram(x=unfiltered_involvement*100, histnorm='percent',\n",
    "                         #  nbinsx=15,\n",
    "                           xbins_size=5.0,\n",
    "                           marker_color=['lightgray', 'lightgray', 'lightgray', 'lightgray', 'lightgray', \n",
    "                                        'gray', 'gray', 'gray', 'gray', 'gray', \n",
    "                                        'green', 'green', 'green', 'green', 'green', \n",
    "                                        'green', 'green', 'green', 'green', 'green', ],\n",
    "                           marker_line_width=0.75))\n",
    "\n",
    "\n",
    "fig.update_layout(template=template, \n",
    "                  annotations=[\n",
    "                      dict(x=0.25, y=0.5, text='local', font_color='gray'),\n",
    "                      dict(x=0.9, y=0.2, text='global', font_color='green'),\n",
    "                      dict(x=-0.2,y=1.1, text='(c)')\n",
    "                  ],\n",
    "                  width=width, height=height,\n",
    "                  xaxis=dict(title_text='Involvement [%]',\n",
    "                             tickvals=[0, 50, 100], range=[0,101]),\n",
    "                  yaxis=dict(title_text='Fraction [%]', showticklabels=True))\n",
    "\n",
    "\n",
    "fig.show()"
   ]
  },
  {
   "cell_type": "markdown",
   "metadata": {},
   "source": [
    "## 5. UP-DOWN States per Nodes over time (heatmap yellow-blue)"
   ]
  },
  {
   "cell_type": "code",
   "execution_count": null,
   "metadata": {},
   "outputs": [],
   "source": [
    "fig = go.Figure()\n",
    "\n",
    "time = len(states[0]) / (1000/0.1) # number_of_integration_steps / (ms/integration_time_constant)\n",
    "steps = len(states[0])\n",
    "fig.add_trace(go.Heatmap(z=states[:,-600000:], x=np.linspace(0,time,steps)[-600000:],\n",
    "                         colorscale=[[0.0, colors['DOWN']], [0.5, colors['DOWN']], \n",
    "                                     [0.5, colors['UP']], [1.0, colors['UP']]],\n",
    "                         colorbar=dict(nticks=2,\n",
    "                                       tickvals=[0.05, 0.95], \n",
    "                                       ticktext=['DOWN', 'UP'],\n",
    "                                       tickangle=90)))\n",
    "\n",
    "fig.update_layout(template=template,\n",
    "                  annotations=[\n",
    "                      dict(x=-0.085,y=1.1, text='(b)')\n",
    "                  ],\n",
    "                 width=800, height=400)\n",
    "fig.update_xaxes(title_text='Time [s]', tickvals=[540,560,580,600], ticktext=['0','20','40','60'])\n",
    "fig.update_yaxes(title_text='Node', tickvals=[0,19,39,59,79], ticktext=['1','20','40','60','80'])\n",
    "fig.show()"
   ]
  },
  {
   "cell_type": "code",
   "execution_count": null,
   "metadata": {},
   "outputs": [],
   "source": [
    "fig.write_image(IMG_PATH + 'states_only_correctedNodes.png')"
   ]
  },
  {
   "cell_type": "markdown",
   "metadata": {},
   "source": [
    "## Plot corresponding distribution of states over brain map\n",
    "\n",
    "One Problem still: Im ALN sind die node_mean_down_phases alle negativ, hier nicht: WARUM???"
   ]
  },
  {
   "cell_type": "code",
   "execution_count": null,
   "metadata": {},
   "outputs": [],
   "source": [
    "t = wc.t[-cut_off:]\n",
    "\n",
    "peaks = scipy.signal.find_peaks(unfiltered_involvement, height=0.97, distance=30000)[0]\n",
    "#print(node_mean_phases_down)\n",
    "dt_min = peaks[-4]\n",
    "print(dt_min)\n",
    "\n",
    "#deltas = np.linspace(-20000, 10000, 21)\n",
    "deltas = [-4000, -3000, -2000, 0, 1000, 3000]\n",
    "for delta in deltas:\n",
    "    print(delta, np.sum(states[:, int(dt_min + delta)]))\n",
    "    plot_brain(wc, ds, color=states[:, int(dt_min + delta)], size=np.multiply(800,nd), title=f\"t = {int(delta*wc.params.dt)} ms\", cmap='plasma', cbar=False, clim=[0, 1])\n",
    "    #plt.savefig(f\"/Users/caglar/Documents/PhD/papers/2020-1-evolutionary-fitting/figures/assets/sleep_model/assets/frames/frame_{delta}.pdf\", transparent=True)\n",
    "    \n",
    "    plt.show()"
   ]
  },
  {
   "cell_type": "code",
   "execution_count": null,
   "metadata": {},
   "outputs": [],
   "source": [
    "peaks"
   ]
  },
  {
   "cell_type": "markdown",
   "metadata": {},
   "source": [
    "# 6. Power Spectrum"
   ]
  },
  {
   "cell_type": "code",
   "execution_count": null,
   "metadata": {},
   "outputs": [],
   "source": [
    "import neurolib.utils.functions as func\n",
    "\n",
    "model_frs, model_pwrs = func.getMeanPowerSpectrum(wc.exc, dt=wc.params.dt, maxfr=10, spectrum_windowsize=6)\n",
    "\n",
    "maxfr = 10\n",
    "\n",
    "model_frs_plot = model_frs[model_frs < maxfr]\n",
    "model_pwrs_plot = model_pwrs[1:len(model_frs_plot)]"
   ]
  },
  {
   "cell_type": "code",
   "execution_count": null,
   "metadata": {},
   "outputs": [],
   "source": [
    "import scipy.signal as signal\n",
    "\n",
    "fig = make_subplots(rows=1, cols=1, specs=[[{'secondary_y': True}]])\n",
    "\n",
    "maxfr = 10\n",
    "spectrum_windowsize=6\n",
    "\n",
    "for act in x:\n",
    "    frequ, power_spectral_density =  signal.welch(act, 10.0*1000, window='hanning', \n",
    "                                                  nperseg=int(spectrum_windowsize * 1000 / wc.params.dt) , \n",
    "                                                  scaling='spectrum')\n",
    "    frequ = frequ[frequ < maxfr]\n",
    "    power_spectral_density = power_spectral_density[1:len(frequ)]\n",
    "    fig.add_trace(go.Scatter(x=frequ, y=power_spectral_density,\n",
    "                            showlegend=False), row=1, col=1, secondary_y=False)\n",
    "\n",
    "fig.add_trace(go.Scatter(x=model_frs_plot, y=model_pwrs_plot,\n",
    "                         showlegend=False,\n",
    "                         marker=dict(color='black'), line=dict(width=3)), row=1, col=1, secondary_y=True)\n",
    "\n",
    "fig.update_layout(template=template,\n",
    "                  annotations=[\n",
    "                      dict(x=-0.195, y=1.32, text='(e)', font=dict(color='black')),\n",
    "                      dict(x=1.14, y=0.5, text='Mean PS', font=dict(size=26,color='black'), textangle=90),\n",
    "                      dict(x=-0.2, y=0.5, text='PS [V**2]', font=dict(size=26,color='black'), textangle=-90),\n",
    "                  ],\n",
    "                 width=template.layout.width*0.5, height=height*(2/3),\n",
    "                 yaxis=dict(type='log', title_text='', tickvals=[0,0.001,0.01]),\n",
    "                 yaxis2=dict(type='log',title_text='', tickvals=[0,0.001,0.01]),\n",
    "                 margin=dict(l=82,r=80))\n",
    "\n",
    "fig.update_xaxes(title_text='Frequency [Hz]')\n",
    "\n",
    "fig.show()"
   ]
  },
  {
   "cell_type": "code",
   "execution_count": null,
   "metadata": {},
   "outputs": [],
   "source": [
    "import dill\n",
    "f_eeg, mean_eeg_power = dill.load(open(\"./data/mean_eeg_power_N3.dill\", \"rb\"))"
   ]
  },
  {
   "cell_type": "code",
   "execution_count": null,
   "metadata": {},
   "outputs": [],
   "source": [
    "fig = go.Figure()\n",
    "\n",
    "fig.add_trace(go.Scatter(x=model_frs_plot, y=model_pwrs_plot,\n",
    "                         showlegend=False,\n",
    "                         marker=dict(color='black'), line=dict(width=3)), row=1, col=1, secondary_y=True)"
   ]
  },
  {
   "cell_type": "markdown",
   "metadata": {},
   "source": [
    "# 7. Time Series"
   ]
  },
  {
   "cell_type": "code",
   "execution_count": null,
   "metadata": {},
   "outputs": [],
   "source": [
    "dt_min=peaks[-4]\n",
    "\n",
    "eins = wc.exc[0][dt_min-4000:dt_min+3000]\n",
    "zwei = wc.exc[22][dt_min-4000:dt_min+3000]\n",
    "drei = wc.exc[78][dt_min-4000:dt_min+3000]\n",
    "\n",
    "time=np.linspace(-400,300,7000)"
   ]
  },
  {
   "cell_type": "code",
   "execution_count": null,
   "metadata": {},
   "outputs": [],
   "source": [
    "fig = go.Figure()\n",
    "\n",
    "fig.add_trace(go.Scatter(x=time, y=eins,\n",
    "                        mode='lines', name='Node #0',\n",
    "                        showlegend=True,\n",
    "                        marker=dict(color='black')))\n",
    "\n",
    "fig.add_trace(go.Scatter(x=time, y=zwei,\n",
    "                        mode='lines', name='Node #23',\n",
    "                        showlegend=True,\n",
    "                        marker=dict(color='gray')))\n",
    "\n",
    "fig.add_trace(go.Scatter(x=time, y=drei,\n",
    "                        mode='lines', name='Node #79',\n",
    "                        showlegend=True,\n",
    "                        marker=dict(color='green')))\n",
    "\n",
    "fig.update_layout(template=template,\n",
    "                  annotations=[\n",
    "                      dict(x=-0.085, y=1.4, text='(d)', font=dict(color='black')),\n",
    "                  ],\n",
    "                 width=800, height=height*0.5, \n",
    "                 xaxis=dict(title_text='Time [s]'),\n",
    "                 yaxis=dict(title_text='E(t)', \n",
    "                            range=[0,1], tickvals=[0,1], title_font_color='black'),\n",
    "                 legend=dict(orientation=\"h\", yanchor=\"bottom\", y=1.02, xanchor=\"right\", x=1))\n",
    "\n",
    "fig.show()\n"
   ]
  },
  {
   "cell_type": "code",
   "execution_count": null,
   "metadata": {},
   "outputs": [],
   "source": []
  },
  {
   "cell_type": "markdown",
   "metadata": {},
   "source": [
    "## 8. Time spent per node degree (out)"
   ]
  },
  {
   "cell_type": "code",
   "execution_count": null,
   "metadata": {},
   "outputs": [],
   "source": [
    "from Topology import Topology"
   ]
  },
  {
   "cell_type": "code",
   "execution_count": null,
   "metadata": {},
   "outputs": [],
   "source": [
    "top = Topology(wc, ext_input=[2.4, 1.12], fix_params=fix, Cmat=ds.Cmat)\n",
    "top.getDirectedNodeDegreeIN()\n",
    "nd = top.directedNodeDegreesIN"
   ]
  },
  {
   "cell_type": "code",
   "execution_count": null,
   "metadata": {},
   "outputs": [],
   "source": [
    "up_dur_mean = np.sum(states==1, axis=1)/states[0].size*100\n",
    "down_dur_mean = np.sum(states==0, axis=1)/states[0].size*100"
   ]
  },
  {
   "cell_type": "code",
   "execution_count": null,
   "metadata": {},
   "outputs": [],
   "source": [
    "states[0].size"
   ]
  },
  {
   "cell_type": "code",
   "execution_count": null,
   "metadata": {},
   "outputs": [],
   "source": [
    "fig = go.Figure()\n",
    "\n",
    "fig.add_trace(go.Scatter(x=nd, y=up_dur_mean, mode='markers', \n",
    "                         marker=dict(color=colors['up_duration']),\n",
    "                         name='up'))\n",
    "fig.add_trace(go.Scatter(x=nd, y=down_dur_mean, mode='markers', \n",
    "                         marker=dict(color=colors['down_duration']),\n",
    "                         name='down'))\n",
    "\n",
    "fig.update_layout(template=template,\n",
    "                  annotations=[\n",
    "                      dict(x=-0.2,y=1.1, text='(a)')\n",
    "                  ],\n",
    "                 width=width, height=height,\n",
    "                 legend=dict(x=0.65, y=0.5),\n",
    "                 xaxis=dict(title_text='Node degree'),\n",
    "                 yaxis=dict(title_text='Time spent [%]', tickvals=[0,20,40,60,80]))\n",
    "\n",
    "fig.show()"
   ]
  },
  {
   "cell_type": "code",
   "execution_count": null,
   "metadata": {},
   "outputs": [],
   "source": [
    "type(np.array(up_dur_mean))"
   ]
  },
  {
   "cell_type": "markdown",
   "metadata": {},
   "source": [
    "## Investigation of Bistability Regime"
   ]
  },
  {
   "cell_type": "code",
   "execution_count": null,
   "metadata": {},
   "outputs": [],
   "source": [
    "high = wc.exc[2][-50000:]\n",
    "low = wc.exc[31][-50000:]"
   ]
  },
  {
   "cell_type": "code",
   "execution_count": null,
   "metadata": {},
   "outputs": [],
   "source": [
    "fig = go.Figure()\n",
    "\n",
    "fig.add_trace(go.Scatter(x=np.linspace(0,2,20000), y=low[-20000:],\n",
    "                        mode='lines', name='Node #32',\n",
    "                         showlegend=True,\n",
    "                        marker=dict(color='black')))\n",
    "\n",
    "fig.update_layout(template=template,\n",
    "                  annotations=[\n",
    "                      dict(x=-0.078, y=1.25, text='(b)', font=dict(color='black')),\n",
    "                  ],\n",
    "                 width=template.layout.width*(2/3), height=height*0.5, \n",
    "                 xaxis=dict(title_text='', tickvals=[0,1,2]),\n",
    "                 yaxis=dict(title_text='E(t)', \n",
    "                            range=[0,1], tickvals=[0,1], title_font_color='black'),\n",
    "                 legend=dict(orientation=\"h\", yanchor=\"bottom\", y=1.02, xanchor=\"right\", x=1))\n",
    "\n",
    "fig.show()"
   ]
  },
  {
   "cell_type": "code",
   "execution_count": null,
   "metadata": {},
   "outputs": [],
   "source": [
    "fig = go.Figure()\n",
    "\n",
    "fig.add_trace(go.Scatter(x=np.linspace(0,5,50000), y=high,\n",
    "                        mode='lines', name='Node #3',\n",
    "                        showlegend=True,\n",
    "                        marker=dict(color='black')))\n",
    "\n",
    "fig.update_layout(template=template,\n",
    "                  annotations=[\n",
    "                      dict(x=-0.078, y=1.25, text='(c)', font=dict(color='black')),\n",
    "                  ],\n",
    "                 width=template.layout.width*(2/3), height=height*0.5, \n",
    "                 xaxis=dict(title_text='Time [s]'),\n",
    "                 yaxis=dict(title_text='E(t)', \n",
    "                            range=[0,1], tickvals=[0,1], title_font_color='black'),\n",
    "                 legend=dict(orientation=\"h\", yanchor=\"bottom\", y=1.02, xanchor=\"right\", x=1))\n",
    "\n",
    "fig.show()"
   ]
  },
  {
   "cell_type": "code",
   "execution_count": null,
   "metadata": {},
   "outputs": [],
   "source": []
  }
 ],
 "metadata": {
  "kernelspec": {
   "display_name": "Python 3",
   "language": "python",
   "name": "python3"
  },
  "language_info": {
   "codemirror_mode": {
    "name": "ipython",
    "version": 3
   },
   "file_extension": ".py",
   "mimetype": "text/x-python",
   "name": "python",
   "nbconvert_exporter": "python",
   "pygments_lexer": "ipython3",
   "version": "3.7.6"
  }
 },
 "nbformat": 4,
 "nbformat_minor": 4
}
