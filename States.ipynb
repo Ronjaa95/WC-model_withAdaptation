{
 "cells": [
  {
   "cell_type": "code",
   "execution_count": null,
   "metadata": {},
   "outputs": [],
   "source": [
    "# change into the root directory of the project\n",
    "import os\n",
    "if os.getcwd().split(\"/\")[-1] == \"dev\":\n",
    "    os.chdir('..')\n",
    "    \n",
    "# get the current directory\n",
    "cwd = os.getcwd()\n",
    "\n",
    "# Print the current working directory\n",
    "print(\"Current working directory: {0}\".format(cwd))\n",
    "\n",
    "\n",
    "# Set path, where to save files of tables\n",
    "PATH = cwd\n",
    "HDF_PATH = PATH + '/data/hdf/'\n",
    "IMG_PATH = PATH + '/images/05/'\n",
    "print(HDF_PATH)\n",
    "\n",
    "\n",
    "import numpy as np\n",
    "import scipy\n",
    "from scipy import stats\n",
    "\n",
    "\n",
    "from neurolib.models.wc-adap import WCModel\n",
    "from neurolib.models.wc_input import WCModel_input\n",
    "\n",
    "from neurolib.utils.parameterSpace import ParameterSpace\n",
    "from neurolib.optimize.exploration import BoxSearch\n",
    "import neurolib.utils.functions as func\n",
    "import neurolib.utils.devutils as du\n",
    "\n",
    "#import neurolib.utils.brainplot as bp\n",
    "import neurolib.optimize.exploration.explorationUtils as eu\n",
    "\n",
    "from neurolib.utils.loadData import Dataset\n",
    "\n",
    "from Derivations import Derivations\n",
    "\n",
    "#for the brainplot functions\n",
    "from Brainplot import plot_brain\n",
    "from Brainplot import plot_involvement_distribution\n",
    "import xarray as xr\n",
    "from neurolib.utils.signal import Signal\n",
    "import matplotlib.pyplot as plt"
   ]
  },
  {
   "cell_type": "code",
   "execution_count": null,
   "metadata": {},
   "outputs": [],
   "source": [
    "#Packages for plotting\n",
    "from plotly.offline import init_notebook_mode, plot, iplot\n",
    "from plotly.subplots import make_subplots\n",
    "import plotly.offline as pyo\n",
    "\n",
    "import chart_studio.plotly as py #chart_studio has to be installed: pip install chart_studio\n",
    "import plotly.graph_objs as go\n",
    "import plotly.figure_factory as ff\n",
    "import plotly.express as px"
   ]
  },
  {
   "cell_type": "code",
   "execution_count": null,
   "metadata": {},
   "outputs": [],
   "source": [
    "from Templates import template\n",
    "from Templates import brain_result_color_list\n",
    "from Templates import brain_result_colors"
   ]
  },
  {
   "cell_type": "code",
   "execution_count": null,
   "metadata": {},
   "outputs": [],
   "source": [
    "colors = brain_result_colors\n",
    "\n",
    "width = template.layout.width * (1/3)\n",
    "height = template.layout.height * (2/3)"
   ]
  },
  {
   "cell_type": "code",
   "execution_count": null,
   "metadata": {},
   "outputs": [],
   "source": [
    "ds = Dataset(\"gw\", fcd=True)"
   ]
  },
  {
   "cell_type": "code",
   "execution_count": null,
   "metadata": {},
   "outputs": [],
   "source": [
    "wc = WCModel(Cmat = ds.Cmat, Dmat = ds.Dmat)\n",
    "wc_input=WCModel_input(Cmat = ds.Cmat, Dmat = ds.Dmat)"
   ]
  },
  {
   "cell_type": "code",
   "execution_count": null,
   "metadata": {},
   "outputs": [],
   "source": []
  },
  {
   "cell_type": "markdown",
   "metadata": {},
   "source": [
    "# 1.For critical value"
   ]
  },
  {
   "cell_type": "code",
   "execution_count": null,
   "metadata": {},
   "outputs": [],
   "source": [
    "fix = {'duration': 360.0*1000, 'sigma_ou': 0.287031, 'K_gl': 2.573845, \n",
    "      # 'adap_init': 0.0 * np.random.uniform(0.99, 1, (1, 1)), #inkl a_adap Null setzen für ausschalten der Adap\n",
    "       'tau_exc': 2.5, 'tau_inh': 3.75, \n",
    "       'c_excexc': 16, 'c_excinh': 12, 'c_inhexc': 12, 'c_inhinh': 3, \n",
    "       'a_exc': 1.0, 'a_inh': 1.0, \n",
    "       'mu_exc': 5.0, 'mu_inh': 5.0,\n",
    "       'a_adap': 98.381822, 'tau_adap': 3050.402224,\n",
    "       'exc_ext': 4.960871, 'inh_ext': 2.668888}\n",
    "wc.params.update(fix)"
   ]
  },
  {
   "cell_type": "code",
   "execution_count": null,
   "metadata": {},
   "outputs": [],
   "source": [
    "dev = Derivations(model=wc, model_input=wc_input, params=fix)"
   ]
  },
  {
   "cell_type": "code",
   "execution_count": null,
   "metadata": {},
   "outputs": [],
   "source": [
    "wc.run()"
   ]
  },
  {
   "cell_type": "code",
   "execution_count": null,
   "metadata": {},
   "outputs": [],
   "source": [
    "thresh = 0.2 * np.max(wc.output, axis=1)\n",
    "x=wc.exc[:,-600000:]\n",
    "states_critical = [dev.getUpDownWindows(x[k], thresh[k], filter_long=True, dur=25) for k in range(len(x))]"
   ]
  },
  {
   "cell_type": "code",
   "execution_count": null,
   "metadata": {},
   "outputs": [],
   "source": [
    "fig = go.Figure()\n",
    "\n",
    "time = len(states_critical[0]) / (1000/0.1) # number_of_integration_steps / (ms/integration_time_constant)\n",
    "steps = len(states_critical[0])\n",
    "fig.add_trace(go.Heatmap(z=states_critical, x=np.linspace(0,time,steps),\n",
    "                         colorscale=[[0.0, colors['DOWN']], [0.5, colors['DOWN']], \n",
    "                                     [0.5, colors['UP']], [1.0, colors['UP']]],\n",
    "                         colorbar=dict(nticks=2,\n",
    "                                       tickvals=[0.05, 0.95], \n",
    "                                       ticktext=['DOWN', 'UP'],\n",
    "                                       tickangle=90)))\n",
    "\n",
    "fig.update_layout(template=template,\n",
    "                  annotations=[\n",
    "                      dict(x=0.49, y=1.15, text='b=98.38', font_color='gray')\n",
    "                  ],\n",
    "                 width=width*2, height=height)\n",
    "fig.update_xaxes(tickvals=[], ticktext=[], ticks='')\n",
    "fig.update_yaxes(title_text='Node', tickvals=[0,19,39,59,79], ticktext=['1','20','40','60','80'])\n",
    "fig.show()"
   ]
  },
  {
   "cell_type": "code",
   "execution_count": null,
   "metadata": {},
   "outputs": [],
   "source": [
    "fig.write_img(IMG_PATH + 'b_critical.png')"
   ]
  },
  {
   "cell_type": "markdown",
   "metadata": {},
   "source": [
    "# 2. For half critical value"
   ]
  },
  {
   "cell_type": "code",
   "execution_count": null,
   "metadata": {},
   "outputs": [],
   "source": [
    "fix = {'duration': 360.0*1000, 'sigma_ou': 0.287031, 'K_gl': 2.573845, \n",
    "      # 'adap_init': 0.0 * np.random.uniform(0.99, 1, (1, 1)), #inkl a_adap Null setzen für ausschalten der Adap\n",
    "       'tau_exc': 2.5, 'tau_inh': 3.75, \n",
    "       'c_excexc': 16, 'c_excinh': 12, 'c_inhexc': 12, 'c_inhinh': 3, \n",
    "       'a_exc': 1.0, 'a_inh': 1.0, \n",
    "       'mu_exc': 5.0, 'mu_inh': 5.0,\n",
    "       'a_adap': 60, 'tau_adap': 3050.402224,\n",
    "       'exc_ext': 4.960871, 'inh_ext': 2.668888}\n",
    "wc.params.update(fix)"
   ]
  },
  {
   "cell_type": "code",
   "execution_count": null,
   "metadata": {},
   "outputs": [],
   "source": [
    "dev = Derivations(model=wc, model_input=wc_input, params=fix)"
   ]
  },
  {
   "cell_type": "code",
   "execution_count": null,
   "metadata": {},
   "outputs": [],
   "source": [
    "wc.run()"
   ]
  },
  {
   "cell_type": "code",
   "execution_count": null,
   "metadata": {},
   "outputs": [],
   "source": [
    "thresh = 0.2 * np.max(wc.output, axis=1)\n",
    "x=wc.exc[:,-600000:]\n",
    "states_half = [dev.getUpDownWindows(x[k], thresh[k], filter_long=True, dur=25) for k in range(len(x))]"
   ]
  },
  {
   "cell_type": "code",
   "execution_count": null,
   "metadata": {},
   "outputs": [],
   "source": [
    "fig = go.Figure()\n",
    "\n",
    "time = len(states_half[0]) / (1000/0.1) # number_of_integration_steps / (ms/integration_time_constant)\n",
    "steps = len(states_half[0])\n",
    "fig.add_trace(go.Heatmap(z=states_half, x=np.linspace(0,time,steps),\n",
    "                         colorscale=[[0.0, colors['DOWN']], [0.5, colors['DOWN']], \n",
    "                                     [0.5, colors['UP']], [1.0, colors['UP']]],#[(0.00, colors['DOWN']),(1.0, colors['UP'])],\n",
    "                         colorbar=dict(nticks=2,\n",
    "                                       tickvals=[0.05, 0.95], \n",
    "                                       ticktext=['DOWN', 'UP'],\n",
    "                                       tickangle=90)))\n",
    "\n",
    "fig.update_layout(template=template,\n",
    "                  annotations=[\n",
    "                      dict(x=0.49, y=1.15, text='b=60', font_color='gray')\n",
    "                  ],\n",
    "                  width=800, height=400)\n",
    "fig.update_xaxes(tickvals=[], ticktext=[], ticks='')\n",
    "fig.update_yaxes(title_text='Node', tickvals=[0,19,39,59,79], ticktext=['1','20','40','60','80'])\n",
    "fig.show()"
   ]
  },
  {
   "cell_type": "code",
   "execution_count": null,
   "metadata": {},
   "outputs": [],
   "source": [
    "fig.write_img(IMG_PATH + 'b_half.png')"
   ]
  },
  {
   "cell_type": "markdown",
   "metadata": {},
   "source": [
    "# 3. For b higher"
   ]
  },
  {
   "cell_type": "code",
   "execution_count": null,
   "metadata": {},
   "outputs": [],
   "source": [
    "fix = {'duration': 360.0*1000, 'sigma_ou': 0.287031, 'K_gl': 2.573845, \n",
    "      # 'adap_init': 0.0 * np.random.uniform(0.99, 1, (1, 1)), #inkl a_adap Null setzen für ausschalten der Adap\n",
    "       'tau_exc': 2.5, 'tau_inh': 3.75, \n",
    "       'c_excexc': 16, 'c_excinh': 12, 'c_inhexc': 12, 'c_inhinh': 3, \n",
    "       'a_exc': 1.0, 'a_inh': 1.0, \n",
    "       'mu_exc': 5.0, 'mu_inh': 5.0,\n",
    "       'a_adap': 120, 'tau_adap': 3050.402224,\n",
    "       'exc_ext': 4.960871, 'inh_ext': 2.668888}\n",
    "wc.params.update(fix)"
   ]
  },
  {
   "cell_type": "code",
   "execution_count": null,
   "metadata": {},
   "outputs": [],
   "source": [
    "dev = Derivations(model=wc, model_input=wc_input, params=fix)"
   ]
  },
  {
   "cell_type": "code",
   "execution_count": null,
   "metadata": {},
   "outputs": [],
   "source": [
    "wc.run()"
   ]
  },
  {
   "cell_type": "code",
   "execution_count": null,
   "metadata": {},
   "outputs": [],
   "source": [
    "thresh = 0.2 * np.max(wc.output, axis=1)\n",
    "x=wc.exc[:,-600000:]\n",
    "states_higher = [dev.getUpDownWindows(x[k], thresh[k], filter_long=True, dur=25) for k in range(len(x))]"
   ]
  },
  {
   "cell_type": "code",
   "execution_count": null,
   "metadata": {},
   "outputs": [],
   "source": [
    "fig = go.Figure()\n",
    "\n",
    "time = len(states_higher[0]) / (1000/0.1) # number_of_integration_steps / (ms/integration_time_constant)\n",
    "steps = len(states_higher[0])\n",
    "fig.add_trace(go.Heatmap(z=states_higher, x=np.linspace(0,time,steps),\n",
    "                         colorscale=[[0.0, colors['DOWN']], [0.5, colors['DOWN']], \n",
    "                                     [0.5, colors['UP']], [1.0, colors['UP']]],\n",
    "                         colorbar=dict(nticks=2,\n",
    "                                       tickvals=[0.05, 0.95], \n",
    "                                       ticktext=['DOWN', 'UP'],\n",
    "                                       tickangle=90)))\n",
    "\n",
    "fig.update_layout(template=template,\n",
    "                  annotations=[\n",
    "                      dict(x=0.49, y=1.15, text='b=120', font_color='gray')\n",
    "                  ],\n",
    "                 width=width*2, height=height)\n",
    "fig.update_xaxes(title_text='Time [s]', tickvals=[0,20,40,60])\n",
    "fig.update_yaxes(title_text='Node', tickvals=[0,19,39,59,79], ticktext=['1','20','40','60','80'])\n",
    "fig.show()"
   ]
  },
  {
   "cell_type": "code",
   "execution_count": null,
   "metadata": {},
   "outputs": [],
   "source": []
  },
  {
   "cell_type": "code",
   "execution_count": null,
   "metadata": {},
   "outputs": [],
   "source": []
  },
  {
   "cell_type": "code",
   "execution_count": null,
   "metadata": {},
   "outputs": [],
   "source": []
  }
 ],
 "metadata": {
  "kernelspec": {
   "display_name": "Python 3",
   "language": "python",
   "name": "python3"
  },
  "language_info": {
   "codemirror_mode": {
    "name": "ipython",
    "version": 3
   },
   "file_extension": ".py",
   "mimetype": "text/x-python",
   "name": "python",
   "nbconvert_exporter": "python",
   "pygments_lexer": "ipython3",
   "version": "3.7.6"
  }
 },
 "nbformat": 4,
 "nbformat_minor": 4
}
